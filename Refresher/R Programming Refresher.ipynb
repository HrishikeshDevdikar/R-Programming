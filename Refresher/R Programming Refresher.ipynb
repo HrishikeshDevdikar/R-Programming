{
 "cells": [
  {
   "cell_type": "code",
   "execution_count": null,
   "id": "1040e39a",
   "metadata": {},
   "outputs": [],
   "source": [
    "#Data Types in R - \n",
    "# Character\n",
    "# Numeric\n",
    "# Integer\n",
    "# Complex\n",
    "# Logical – True/False"
   ]
  },
  {
   "cell_type": "code",
   "execution_count": 5,
   "id": "f913639c",
   "metadata": {},
   "outputs": [
    {
     "data": {
      "text/html": [
       "'character'"
      ],
      "text/latex": [
       "'character'"
      ],
      "text/markdown": [
       "'character'"
      ],
      "text/plain": [
       "[1] \"character\""
      ]
     },
     "metadata": {},
     "output_type": "display_data"
    },
    {
     "data": {
      "text/html": [
       "'numeric'"
      ],
      "text/latex": [
       "'numeric'"
      ],
      "text/markdown": [
       "'numeric'"
      ],
      "text/plain": [
       "[1] \"numeric\""
      ]
     },
     "metadata": {},
     "output_type": "display_data"
    },
    {
     "data": {
      "text/html": [
       "'integer'"
      ],
      "text/latex": [
       "'integer'"
      ],
      "text/markdown": [
       "'integer'"
      ],
      "text/plain": [
       "[1] \"integer\""
      ]
     },
     "metadata": {},
     "output_type": "display_data"
    },
    {
     "data": {
      "text/html": [
       "'complex'"
      ],
      "text/latex": [
       "'complex'"
      ],
      "text/markdown": [
       "'complex'"
      ],
      "text/plain": [
       "[1] \"complex\""
      ]
     },
     "metadata": {},
     "output_type": "display_data"
    },
    {
     "data": {
      "text/html": [
       "'logical'"
      ],
      "text/latex": [
       "'logical'"
      ],
      "text/markdown": [
       "'logical'"
      ],
      "text/plain": [
       "[1] \"logical\""
      ]
     },
     "metadata": {},
     "output_type": "display_data"
    }
   ],
   "source": [
    "x <- \"R Programming Refresher\"\n",
    "class(x)\n",
    "y <- 3.14\n",
    "class(y)\n",
    "z <- 69L\n",
    "class(z)\n",
    "c <- 5 +69i\n",
    "class(c)\n",
    "l <- TRUE\n",
    "class(l)"
   ]
  },
  {
   "cell_type": "code",
   "execution_count": 34,
   "id": "23ba41ce",
   "metadata": {},
   "outputs": [
    {
     "data": {
      "text/html": [
       "<ol class=list-inline>\n",
       "\t<li>'age'</li>\n",
       "\t<li>'weight'</li>\n",
       "</ol>\n"
      ],
      "text/latex": [
       "\\begin{enumerate*}\n",
       "\\item 'age'\n",
       "\\item 'weight'\n",
       "\\end{enumerate*}\n"
      ],
      "text/markdown": [
       "1. 'age'\n",
       "2. 'weight'\n",
       "\n",
       "\n"
      ],
      "text/plain": [
       "[1] \"age\"    \"weight\""
      ]
     },
     "metadata": {},
     "output_type": "display_data"
    },
    {
     "data": {
      "text/html": [
       "2"
      ],
      "text/latex": [
       "2"
      ],
      "text/markdown": [
       "2"
      ],
      "text/plain": [
       "[1] 2"
      ]
     },
     "metadata": {},
     "output_type": "display_data"
    }
   ],
   "source": [
    "#Each object has specific attributes like:\n",
    "# names\n",
    "# dim\n",
    "# class\n",
    "# length\n",
    "# others attributes defined by the user\n",
    "\n",
    "myList <- list(age=c(10,21,39),weight=c(30,50,65))\n",
    "names(myList)\n",
    "length(myList)"
   ]
  },
  {
   "cell_type": "code",
   "execution_count": 15,
   "id": "e9d227b0",
   "metadata": {},
   "outputs": [
    {
     "data": {
      "text/html": [
       "<ol class=list-inline>\n",
       "\t<li>'This'</li>\n",
       "\t<li>'Is'</li>\n",
       "\t<li>'A'</li>\n",
       "\t<li>'Character'</li>\n",
       "\t<li>'Vector'</li>\n",
       "</ol>\n"
      ],
      "text/latex": [
       "\\begin{enumerate*}\n",
       "\\item 'This'\n",
       "\\item 'Is'\n",
       "\\item 'A'\n",
       "\\item 'Character'\n",
       "\\item 'Vector'\n",
       "\\end{enumerate*}\n"
      ],
      "text/markdown": [
       "1. 'This'\n",
       "2. 'Is'\n",
       "3. 'A'\n",
       "4. 'Character'\n",
       "5. 'Vector'\n",
       "\n",
       "\n"
      ],
      "text/plain": [
       "[1] \"This\"      \"Is\"        \"A\"         \"Character\" \"Vector\"   "
      ]
     },
     "metadata": {},
     "output_type": "display_data"
    },
    {
     "data": {
      "text/html": [
       "'character'"
      ],
      "text/latex": [
       "'character'"
      ],
      "text/markdown": [
       "'character'"
      ],
      "text/plain": [
       "[1] \"character\""
      ]
     },
     "metadata": {},
     "output_type": "display_data"
    }
   ],
   "source": [
    "#vector\n",
    "vec <- c(\"This\",\"Is\", \"A\", \"Character\",\"Vector\")\n",
    "vec\n",
    "class(vec)\n",
    "#vectors need to be of the same class"
   ]
  },
  {
   "cell_type": "code",
   "execution_count": 17,
   "id": "7add63ce",
   "metadata": {},
   "outputs": [
    {
     "data": {
      "text/html": [
       "<ol class=list-inline>\n",
       "\t<li>FALSE</li>\n",
       "\t<li>FALSE</li>\n",
       "\t<li>FALSE</li>\n",
       "\t<li>FALSE</li>\n",
       "\t<li>FALSE</li>\n",
       "</ol>\n"
      ],
      "text/latex": [
       "\\begin{enumerate*}\n",
       "\\item FALSE\n",
       "\\item FALSE\n",
       "\\item FALSE\n",
       "\\item FALSE\n",
       "\\item FALSE\n",
       "\\end{enumerate*}\n"
      ],
      "text/markdown": [
       "1. FALSE\n",
       "2. FALSE\n",
       "3. FALSE\n",
       "4. FALSE\n",
       "5. FALSE\n",
       "\n",
       "\n"
      ],
      "text/plain": [
       "[1] FALSE FALSE FALSE FALSE FALSE"
      ]
     },
     "metadata": {},
     "output_type": "display_data"
    },
    {
     "data": {
      "text/html": [
       "<ol class=list-inline>\n",
       "\t<li>TRUE</li>\n",
       "\t<li>FALSE</li>\n",
       "\t<li>FALSE</li>\n",
       "\t<li>FALSE</li>\n",
       "\t<li>FALSE</li>\n",
       "</ol>\n"
      ],
      "text/latex": [
       "\\begin{enumerate*}\n",
       "\\item TRUE\n",
       "\\item FALSE\n",
       "\\item FALSE\n",
       "\\item FALSE\n",
       "\\item FALSE\n",
       "\\end{enumerate*}\n"
      ],
      "text/markdown": [
       "1. TRUE\n",
       "2. FALSE\n",
       "3. FALSE\n",
       "4. FALSE\n",
       "5. FALSE\n",
       "\n",
       "\n"
      ],
      "text/plain": [
       "[1]  TRUE FALSE FALSE FALSE FALSE"
      ]
     },
     "metadata": {},
     "output_type": "display_data"
    }
   ],
   "source": [
    "#indexing  in  R  starts from 1 and not 0.\n",
    "f <- vector(mode=\"logical\",length = 5)\n",
    "f\n",
    "f[1] = TRUE\n",
    "f"
   ]
  },
  {
   "cell_type": "code",
   "execution_count": 22,
   "id": "982da097",
   "metadata": {},
   "outputs": [
    {
     "data": {
      "text/html": [
       "<ol>\n",
       "\t<li>'Hello Peter'</li>\n",
       "\t<li>69</li>\n",
       "\t<li>69.69</li>\n",
       "\t<li>TRUE</li>\n",
       "</ol>\n"
      ],
      "text/latex": [
       "\\begin{enumerate}\n",
       "\\item 'Hello Peter'\n",
       "\\item 69\n",
       "\\item 69.69\n",
       "\\item TRUE\n",
       "\\end{enumerate}\n"
      ],
      "text/markdown": [
       "1. 'Hello Peter'\n",
       "2. 69\n",
       "3. 69.69\n",
       "4. TRUE\n",
       "\n",
       "\n"
      ],
      "text/plain": [
       "[[1]]\n",
       "[1] \"Hello Peter\"\n",
       "\n",
       "[[2]]\n",
       "[1] 69\n",
       "\n",
       "[[3]]\n",
       "[1] 69.69\n",
       "\n",
       "[[4]]\n",
       "[1] TRUE\n"
      ]
     },
     "metadata": {},
     "output_type": "display_data"
    },
    {
     "data": {
      "text/html": [
       "'integer'"
      ],
      "text/latex": [
       "'integer'"
      ],
      "text/markdown": [
       "'integer'"
      ],
      "text/plain": [
       "[1] \"integer\""
      ]
     },
     "metadata": {},
     "output_type": "display_data"
    }
   ],
   "source": [
    "#Lists - can be collection of different classes\n",
    "L <- list(\"Hello Peter\", 69L , 69.69, TRUE)\n",
    "L\n",
    "class(L[[2]]) #accessing the 2nd element"
   ]
  },
  {
   "cell_type": "code",
   "execution_count": 31,
   "id": "052a70b2",
   "metadata": {},
   "outputs": [
    {
     "data": {
      "text/html": [
       "<table>\n",
       "<tbody>\n",
       "\t<tr><td>1</td><td>3</td></tr>\n",
       "\t<tr><td>2</td><td>4</td></tr>\n",
       "</tbody>\n",
       "</table>\n"
      ],
      "text/latex": [
       "\\begin{tabular}{ll}\n",
       "\t 1 & 3\\\\\n",
       "\t 2 & 4\\\\\n",
       "\\end{tabular}\n"
      ],
      "text/markdown": [
       "\n",
       "| 1 | 3 |\n",
       "| 2 | 4 |\n",
       "\n"
      ],
      "text/plain": [
       "     [,1] [,2]\n",
       "[1,] 1    3   \n",
       "[2,] 2    4   "
      ]
     },
     "metadata": {},
     "output_type": "display_data"
    },
    {
     "data": {
      "text/html": [
       "<table>\n",
       "<tbody>\n",
       "\t<tr><td>1</td><td>2</td><td>3</td></tr>\n",
       "\t<tr><td>4</td><td>5</td><td>6</td></tr>\n",
       "</tbody>\n",
       "</table>\n"
      ],
      "text/latex": [
       "\\begin{tabular}{lll}\n",
       "\t 1 & 2 & 3\\\\\n",
       "\t 4 & 5 & 6\\\\\n",
       "\\end{tabular}\n"
      ],
      "text/markdown": [
       "\n",
       "| 1 | 2 | 3 |\n",
       "| 4 | 5 | 6 |\n",
       "\n"
      ],
      "text/plain": [
       "     [,1] [,2] [,3]\n",
       "[1,] 1    2    3   \n",
       "[2,] 4    5    6   "
      ]
     },
     "metadata": {},
     "output_type": "display_data"
    },
    {
     "data": {
      "text/html": [
       "<table>\n",
       "<tbody>\n",
       "\t<tr><td>1</td><td>3</td><td>5</td></tr>\n",
       "\t<tr><td>2</td><td>4</td><td>6</td></tr>\n",
       "</tbody>\n",
       "</table>\n"
      ],
      "text/latex": [
       "\\begin{tabular}{lll}\n",
       "\t 1 & 3 & 5\\\\\n",
       "\t 2 & 4 & 6\\\\\n",
       "\\end{tabular}\n"
      ],
      "text/markdown": [
       "\n",
       "| 1 | 3 | 5 |\n",
       "| 2 | 4 | 6 |\n",
       "\n"
      ],
      "text/plain": [
       "     [,1] [,2] [,3]\n",
       "[1,] 1    3    5   \n",
       "[2,] 2    4    6   "
      ]
     },
     "metadata": {},
     "output_type": "display_data"
    },
    {
     "data": {
      "text/html": [
       "<table>\n",
       "<tbody>\n",
       "\t<tr><th scope=row>v1</th><td>20 </td><td>45 </td><td> 47</td></tr>\n",
       "\t<tr><th scope=row>v2</th><td>60 </td><td>54 </td><td>100</td></tr>\n",
       "</tbody>\n",
       "</table>\n"
      ],
      "text/latex": [
       "\\begin{tabular}{r|lll}\n",
       "\tv1 & 20  & 45  &  47\\\\\n",
       "\tv2 & 60  & 54  & 100\\\\\n",
       "\\end{tabular}\n"
      ],
      "text/markdown": [
       "\n",
       "| v1 | 20  | 45  |  47 |\n",
       "| v2 | 60  | 54  | 100 |\n",
       "\n"
      ],
      "text/plain": [
       "   [,1] [,2] [,3]\n",
       "v1 20   45    47 \n",
       "v2 60   54   100 "
      ]
     },
     "metadata": {},
     "output_type": "display_data"
    },
    {
     "data": {
      "text/html": [
       "<table>\n",
       "<thead><tr><th scope=col>v1</th><th scope=col>v2</th></tr></thead>\n",
       "<tbody>\n",
       "\t<tr><td>20 </td><td> 60</td></tr>\n",
       "\t<tr><td>45 </td><td> 54</td></tr>\n",
       "\t<tr><td>47 </td><td>100</td></tr>\n",
       "</tbody>\n",
       "</table>\n"
      ],
      "text/latex": [
       "\\begin{tabular}{ll}\n",
       " v1 & v2\\\\\n",
       "\\hline\n",
       "\t 20  &  60\\\\\n",
       "\t 45  &  54\\\\\n",
       "\t 47  & 100\\\\\n",
       "\\end{tabular}\n"
      ],
      "text/markdown": [
       "\n",
       "| v1 | v2 |\n",
       "|---|---|\n",
       "| 20  |  60 |\n",
       "| 45  |  54 |\n",
       "| 47  | 100 |\n",
       "\n"
      ],
      "text/plain": [
       "     v1 v2 \n",
       "[1,] 20  60\n",
       "[2,] 45  54\n",
       "[3,] 47 100"
      ]
     },
     "metadata": {},
     "output_type": "display_data"
    }
   ],
   "source": [
    "#Matrix - collection of multiple vectors\n",
    "#----------There are many ways to declare a matrix\n",
    "#------1.create a vector and then set dimensions with the dim function\n",
    "\n",
    "mat <- c(1,2,3,4)\n",
    "dim(mat)<- c(2,2)\n",
    "mat\n",
    "\n",
    "#------2.create a matrix by using the matrix function\n",
    "rollNumber <- c(1,2,3,4,5,6)\n",
    "mat2 <- matrix(rollNumber, nrow=2 , ncol=3 , byrow=TRUE) #by using byrow=true\n",
    "mat2\n",
    "mat2 <- matrix(rollNumber, nrow=2 , ncol=3 ) #with default byrow = false\n",
    "mat2\n",
    "\n",
    "#------3. merging existing vectors either by rows using the function rbind or by columns using the cbind function\n",
    "v1 <- c(20,45,47)\n",
    "v2 <- c(60,54,100)\n",
    "#By Rows---\n",
    "rbind(v1,v2)\n",
    "#By Columns---\n",
    "cbind(v1,v2)"
   ]
  },
  {
   "cell_type": "code",
   "execution_count": 33,
   "id": "8a0120e8",
   "metadata": {},
   "outputs": [
    {
     "data": {
      "text/html": [
       "<ol class=list-inline>\n",
       "\t<li>Yes</li>\n",
       "\t<li>No</li>\n",
       "\t<li>Yes</li>\n",
       "\t<li>No</li>\n",
       "</ol>\n",
       "\n",
       "<details>\n",
       "\t<summary style=display:list-item;cursor:pointer>\n",
       "\t\t<strong>Levels</strong>:\n",
       "\t</summary>\n",
       "\t<ol class=list-inline>\n",
       "\t\t<li>'No'</li>\n",
       "\t\t<li>'Yes'</li>\n",
       "\t</ol>\n",
       "</details>"
      ],
      "text/latex": [
       "\\begin{enumerate*}\n",
       "\\item Yes\n",
       "\\item No\n",
       "\\item Yes\n",
       "\\item No\n",
       "\\end{enumerate*}\n",
       "\n",
       "\\emph{Levels}: \\begin{enumerate*}\n",
       "\\item 'No'\n",
       "\\item 'Yes'\n",
       "\\end{enumerate*}\n"
      ],
      "text/markdown": [
       "1. Yes\n",
       "2. No\n",
       "3. Yes\n",
       "4. No\n",
       "\n",
       "\n",
       "\n",
       "**Levels**: 1. 'No'\n",
       "2. 'Yes'\n",
       "\n",
       "\n"
      ],
      "text/plain": [
       "[1] Yes No  Yes No \n",
       "Levels: No Yes"
      ]
     },
     "metadata": {},
     "output_type": "display_data"
    },
    {
     "data": {
      "text/html": [
       "<ol class=list-inline>\n",
       "\t<li>Yes</li>\n",
       "\t<li>&lt;NA&gt;</li>\n",
       "\t<li>Yes</li>\n",
       "\t<li>&lt;NA&gt;</li>\n",
       "</ol>\n",
       "\n",
       "<details>\n",
       "\t<summary style=display:list-item;cursor:pointer>\n",
       "\t\t<strong>Levels</strong>:\n",
       "\t</summary>\n",
       "\t'Yes'\n",
       "</details>"
      ],
      "text/latex": [
       "\\begin{enumerate*}\n",
       "\\item Yes\n",
       "\\item <NA>\n",
       "\\item Yes\n",
       "\\item <NA>\n",
       "\\end{enumerate*}\n",
       "\n",
       "\\emph{Levels}: 'Yes'"
      ],
      "text/markdown": [
       "1. Yes\n",
       "2. &lt;NA&gt;\n",
       "3. Yes\n",
       "4. &lt;NA&gt;\n",
       "\n",
       "\n",
       "\n",
       "**Levels**: 'Yes'"
      ],
      "text/plain": [
       "[1] Yes  <NA> Yes  <NA>\n",
       "Levels: Yes"
      ]
     },
     "metadata": {},
     "output_type": "display_data"
    }
   ],
   "source": [
    "#factors: an  easy  way  to  represent  and  manage  nominal  data\n",
    "factor(c(\"Yes\",\"No\",\"Yes\",\"No\"))\n",
    "fac <- factor(c(\"Yes\",\"No\",\"Yes\",\"No\"),levels=c(\"Yes\"))\n",
    "fac"
   ]
  },
  {
   "cell_type": "code",
   "execution_count": 38,
   "id": "70815364",
   "metadata": {},
   "outputs": [
    {
     "data": {
      "text/html": [
       "TRUE"
      ],
      "text/latex": [
       "TRUE"
      ],
      "text/markdown": [
       "TRUE"
      ],
      "text/plain": [
       "[1] TRUE"
      ]
     },
     "metadata": {},
     "output_type": "display_data"
    },
    {
     "data": {
      "text/html": [
       "NaN"
      ],
      "text/latex": [
       "NaN"
      ],
      "text/markdown": [
       "NaN"
      ],
      "text/plain": [
       "[1] NaN"
      ]
     },
     "metadata": {},
     "output_type": "display_data"
    },
    {
     "data": {
      "text/html": [
       "TRUE"
      ],
      "text/latex": [
       "TRUE"
      ],
      "text/markdown": [
       "TRUE"
      ],
      "text/plain": [
       "[1] TRUE"
      ]
     },
     "metadata": {},
     "output_type": "display_data"
    }
   ],
   "source": [
    "#Missing Values\n",
    "x <- NA\n",
    "is.na(x)\n",
    "y <- 0/0\n",
    "y\n",
    "is.nan(y)"
   ]
  },
  {
   "cell_type": "code",
   "execution_count": 44,
   "id": "8bbac3b8",
   "metadata": {},
   "outputs": [
    {
     "data": {
      "text/html": [
       "<table>\n",
       "<thead><tr><th scope=col>directorName</th><th scope=col>noOfMovies</th><th scope=col>Oscars</th></tr></thead>\n",
       "<tbody>\n",
       "\t<tr><td>Tarantino</td><td> 9       </td><td> TRUE    </td></tr>\n",
       "\t<tr><td>Scorcese </td><td>25       </td><td> TRUE    </td></tr>\n",
       "\t<tr><td>Nolan    </td><td> 8       </td><td>FALSE    </td></tr>\n",
       "</tbody>\n",
       "</table>\n"
      ],
      "text/latex": [
       "\\begin{tabular}{r|lll}\n",
       " directorName & noOfMovies & Oscars\\\\\n",
       "\\hline\n",
       "\t Tarantino &  9        &  TRUE    \\\\\n",
       "\t Scorcese  & 25        &  TRUE    \\\\\n",
       "\t Nolan     &  8        & FALSE    \\\\\n",
       "\\end{tabular}\n"
      ],
      "text/markdown": [
       "\n",
       "| directorName | noOfMovies | Oscars |\n",
       "|---|---|---|\n",
       "| Tarantino |  9        |  TRUE     |\n",
       "| Scorcese  | 25        |  TRUE     |\n",
       "| Nolan     |  8        | FALSE     |\n",
       "\n"
      ],
      "text/plain": [
       "  directorName noOfMovies Oscars\n",
       "1 Tarantino     9          TRUE \n",
       "2 Scorcese     25          TRUE \n",
       "3 Nolan         8         FALSE "
      ]
     },
     "metadata": {},
     "output_type": "display_data"
    },
    {
     "data": {
      "text/html": [
       "<table>\n",
       "<thead><tr><th scope=col>directorName</th><th scope=col>noOfMovies</th><th scope=col>Oscars</th></tr></thead>\n",
       "<tbody>\n",
       "\t<tr><td>Tarantino</td><td>9        </td><td>TRUE     </td></tr>\n",
       "</tbody>\n",
       "</table>\n"
      ],
      "text/latex": [
       "\\begin{tabular}{r|lll}\n",
       " directorName & noOfMovies & Oscars\\\\\n",
       "\\hline\n",
       "\t Tarantino & 9         & TRUE     \\\\\n",
       "\\end{tabular}\n"
      ],
      "text/markdown": [
       "\n",
       "| directorName | noOfMovies | Oscars |\n",
       "|---|---|---|\n",
       "| Tarantino | 9         | TRUE      |\n",
       "\n"
      ],
      "text/plain": [
       "  directorName noOfMovies Oscars\n",
       "1 Tarantino    9          TRUE  "
      ]
     },
     "metadata": {},
     "output_type": "display_data"
    },
    {
     "data": {
      "text/html": [
       "<ol class=list-inline>\n",
       "\t<li>Tarantino</li>\n",
       "\t<li>Scorcese</li>\n",
       "\t<li>Nolan</li>\n",
       "</ol>\n",
       "\n",
       "<details>\n",
       "\t<summary style=display:list-item;cursor:pointer>\n",
       "\t\t<strong>Levels</strong>:\n",
       "\t</summary>\n",
       "\t<ol class=list-inline>\n",
       "\t\t<li>'Nolan'</li>\n",
       "\t\t<li>'Scorcese'</li>\n",
       "\t\t<li>'Tarantino'</li>\n",
       "\t</ol>\n",
       "</details>"
      ],
      "text/latex": [
       "\\begin{enumerate*}\n",
       "\\item Tarantino\n",
       "\\item Scorcese\n",
       "\\item Nolan\n",
       "\\end{enumerate*}\n",
       "\n",
       "\\emph{Levels}: \\begin{enumerate*}\n",
       "\\item 'Nolan'\n",
       "\\item 'Scorcese'\n",
       "\\item 'Tarantino'\n",
       "\\end{enumerate*}\n"
      ],
      "text/markdown": [
       "1. Tarantino\n",
       "2. Scorcese\n",
       "3. Nolan\n",
       "\n",
       "\n",
       "\n",
       "**Levels**: 1. 'Nolan'\n",
       "2. 'Scorcese'\n",
       "3. 'Tarantino'\n",
       "\n",
       "\n"
      ],
      "text/plain": [
       "[1] Tarantino Scorcese  Nolan    \n",
       "Levels: Nolan Scorcese Tarantino"
      ]
     },
     "metadata": {},
     "output_type": "display_data"
    },
    {
     "data": {
      "text/html": [
       "<ol class=list-inline>\n",
       "\t<li>TRUE</li>\n",
       "\t<li>TRUE</li>\n",
       "\t<li>FALSE</li>\n",
       "</ol>\n"
      ],
      "text/latex": [
       "\\begin{enumerate*}\n",
       "\\item TRUE\n",
       "\\item TRUE\n",
       "\\item FALSE\n",
       "\\end{enumerate*}\n"
      ],
      "text/markdown": [
       "1. TRUE\n",
       "2. TRUE\n",
       "3. FALSE\n",
       "\n",
       "\n"
      ],
      "text/plain": [
       "[1]  TRUE  TRUE FALSE"
      ]
     },
     "metadata": {},
     "output_type": "display_data"
    }
   ],
   "source": [
    "# Data Frames - store data in a table format, can have different type of data in each column. \n",
    "x <- c(\"Tarantino\", \"Scorcese\", \"Nolan\")\n",
    "y <- c(9, 25, 8)\n",
    "z <- c(TRUE, TRUE, FALSE)\n",
    "\n",
    "dataFrame = data.frame(directorName = x , noOfMovies = y, Oscars = z)\n",
    "dataFrame\n",
    "dataFrame[1,] #first row\n",
    "dataFrame[,1] #first col\n",
    "dataFrame$Oscars #accessing using column name"
   ]
  },
  {
   "cell_type": "code",
   "execution_count": null,
   "id": "97c41bcf",
   "metadata": {},
   "outputs": [],
   "source": []
  }
 ],
 "metadata": {
  "kernelspec": {
   "display_name": "R",
   "language": "R",
   "name": "ir"
  },
  "language_info": {
   "codemirror_mode": "r",
   "file_extension": ".r",
   "mimetype": "text/x-r-source",
   "name": "R",
   "pygments_lexer": "r",
   "version": "3.6.1"
  }
 },
 "nbformat": 4,
 "nbformat_minor": 5
}
